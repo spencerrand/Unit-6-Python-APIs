{
 "cells": [
  {
   "cell_type": "markdown",
   "metadata": {},
   "source": [
    "<b><u>Observations</b></u>\n",
    "<p>1. observation</p>\n",
    "<p>2. observation</p>\n",
    "<p>3. observation</p>"
   ]
  },
  {
   "cell_type": "code",
   "execution_count": 1,
   "metadata": {
    "collapsed": true
   },
   "outputs": [],
   "source": [
    "# Dependencies\n",
    "import random\n",
    "import json\n",
    "import requests\n",
    "from pprint import pprint\n",
    "from config import api_key\n",
    "import pandas as pd\n",
    "import seaborn as sns\n",
    "from citipy import citipy\n",
    "import matplotlib.pyplot as plt\n",
    "\n",
    "# Set the seaborn chart style\n",
    "sns.set()\n",
    "\n",
    "# Dependencies for downloading and uncompressing list of cities from OpenWeatherMap\n",
    "import urllib.request\n",
    "import gzip"
   ]
  },
  {
   "cell_type": "markdown",
   "metadata": {},
   "source": [
    "<h1>Download City List</h1>"
   ]
  },
  {
   "cell_type": "code",
   "execution_count": 2,
   "metadata": {},
   "outputs": [
    {
     "data": {
      "text/html": [
       "<div>\n",
       "<style>\n",
       "    .dataframe thead tr:only-child th {\n",
       "        text-align: right;\n",
       "    }\n",
       "\n",
       "    .dataframe thead th {\n",
       "        text-align: left;\n",
       "    }\n",
       "\n",
       "    .dataframe tbody tr th {\n",
       "        vertical-align: top;\n",
       "    }\n",
       "</style>\n",
       "<table border=\"1\" class=\"dataframe\">\n",
       "  <thead>\n",
       "    <tr style=\"text-align: right;\">\n",
       "      <th></th>\n",
       "      <th>coord</th>\n",
       "      <th>country</th>\n",
       "      <th>id</th>\n",
       "      <th>name</th>\n",
       "    </tr>\n",
       "  </thead>\n",
       "  <tbody>\n",
       "    <tr>\n",
       "      <th>0</th>\n",
       "      <td>{'lon': 34.283333, 'lat': 44.549999}</td>\n",
       "      <td>UA</td>\n",
       "      <td>707860</td>\n",
       "      <td>Hurzuf</td>\n",
       "    </tr>\n",
       "    <tr>\n",
       "      <th>1</th>\n",
       "      <td>{'lon': 37.666668, 'lat': 55.683334}</td>\n",
       "      <td>RU</td>\n",
       "      <td>519188</td>\n",
       "      <td>Novinki</td>\n",
       "    </tr>\n",
       "    <tr>\n",
       "      <th>2</th>\n",
       "      <td>{'lon': 84.633331, 'lat': 28}</td>\n",
       "      <td>NP</td>\n",
       "      <td>1283378</td>\n",
       "      <td>GorkhÄ�</td>\n",
       "    </tr>\n",
       "    <tr>\n",
       "      <th>3</th>\n",
       "      <td>{'lon': 76, 'lat': 29}</td>\n",
       "      <td>IN</td>\n",
       "      <td>1270260</td>\n",
       "      <td>State of HaryÄ�na</td>\n",
       "    </tr>\n",
       "    <tr>\n",
       "      <th>4</th>\n",
       "      <td>{'lon': 33.900002, 'lat': 44.599998}</td>\n",
       "      <td>UA</td>\n",
       "      <td>708546</td>\n",
       "      <td>Holubynka</td>\n",
       "    </tr>\n",
       "  </tbody>\n",
       "</table>\n",
       "</div>"
      ],
      "text/plain": [
       "                                  coord country       id               name\n",
       "0  {'lon': 34.283333, 'lat': 44.549999}      UA   707860             Hurzuf\n",
       "1  {'lon': 37.666668, 'lat': 55.683334}      RU   519188            Novinki\n",
       "2         {'lon': 84.633331, 'lat': 28}      NP  1283378            GorkhÄ�\n",
       "3                {'lon': 76, 'lat': 29}      IN  1270260  State of HaryÄ�na\n",
       "4  {'lon': 33.900002, 'lat': 44.599998}      UA   708546          Holubynka"
      ]
     },
     "execution_count": 2,
     "metadata": {},
     "output_type": "execute_result"
    }
   ],
   "source": [
    "# This section downloads the list of cities and IDs that OpenWeatherMap uses\n",
    "\n",
    "# File names\n",
    "city_index_zip_file = \"city.list.json.gz\"\n",
    "city_index_json_file = 'city.list.json'\n",
    "\n",
    "# Download file\n",
    "urllib.request.urlretrieve (\"http://bulk.openweathermap.org/sample/city.list.json.gz\", city_index_zip_file)\n",
    "\n",
    "# Uncompress gzip file to json\n",
    "inF = gzip.open(city_index_zip_file, 'rb')\n",
    "outF = open(city_index_json_file, 'wb')\n",
    "outF.write( inF.read() )\n",
    "inF.close()\n",
    "outF.close()\n",
    "\n",
    "# Read json file into a dataframe\n",
    "city_index_df = pd.read_json(city_index_json_file)\n",
    "\n",
    "# Print top five rows\n",
    "city_index_df.head()"
   ]
  },
  {
   "cell_type": "markdown",
   "metadata": {},
   "source": [
    "<h1>Generate City List</h1>"
   ]
  },
  {
   "cell_type": "code",
   "execution_count": 6,
   "metadata": {},
   "outputs": [
    {
     "name": "stdout",
     "output_type": "stream",
     "text": [
      "  country       id              name         lon        lat\n",
      "0      DE  2871703         Merzalben    7.730770  49.244671\n",
      "1      GB  2649013         Froxfield   -1.572030  51.410820\n",
      "2      AT  2768580  PÃ¶llau am Greim   14.166670  47.200001\n",
      "3      DE  2930965        Ellerstadt    8.259440  49.461670\n",
      "4      PH  1701799           Mangero  122.677498  13.270280\n"
     ]
    }
   ],
   "source": [
    "# This section selects 500 random cities from the city index list\n",
    "\n",
    "# Start by creating an empty dataframe\n",
    "random_city_df = pd.DataFrame(columns=['coord', 'country', 'id', 'name', 'lon', 'lat'])\n",
    "\n",
    "# Set counter to zero for looping\n",
    "counter = 0\n",
    "\n",
    "# Set total number of random cities\n",
    "total_cities = 5\n",
    "\n",
    "# Loop while counter is less than number of cities\n",
    "while counter < total_cities:\n",
    "    \n",
    "    # Pick a random row (must be length - 1 since row starts at 0)\n",
    "    row = random.randint(0, len(city_index_df)-1)\n",
    "    \n",
    "    # If ID is already in the list then do nothing repeat loop\n",
    "    if any(random_city_df.id == city_index_df['id'][row]):\n",
    "        pass\n",
    "    \n",
    "    # If ID isn't in the list then add that row to the dataframe, including latitude and longitude\n",
    "    else:\n",
    "        random_city_df.loc[counter] = city_index_df.iloc[row,:]\n",
    "        random_city_df.lat[counter] = city_index_df['coord'][row]['lat']\n",
    "        random_city_df.lon[counter] = city_index_df['coord'][row]['lon']\n",
    "        counter = counter + 1\n",
    "        \n",
    "# Change latitude and longitude columns from object to float\n",
    "random_city_df[['lat','lon']] = random_city_df[['lat','lon']].apply(pd.to_numeric)\n",
    "\n",
    "# Remove coordinate column, since we parsed out that data\n",
    "del random_city_df['coord']\n",
    "\n",
    "print(random_city_df)"
   ]
  },
  {
   "cell_type": "markdown",
   "metadata": {},
   "source": [
    "<h1>Weather API Call</h1>"
   ]
  },
  {
   "cell_type": "code",
   "execution_count": 16,
   "metadata": {},
   "outputs": [
    {
     "name": "stdout",
     "output_type": "stream",
     "text": [
      "Request 1 of 5: Merzalben\n",
      "http://api.openweathermap.org/data/2.5/weather?APPID=f794c4f97402e541fc87718afc020f36&units=imperial&id=2871703\n",
      "Request 2 of 5: Froxfield\n",
      "http://api.openweathermap.org/data/2.5/weather?APPID=f794c4f97402e541fc87718afc020f36&units=imperial&id=2649013\n",
      "Request 3 of 5: PÃ¶llau am Greim\n",
      "http://api.openweathermap.org/data/2.5/weather?APPID=f794c4f97402e541fc87718afc020f36&units=imperial&id=2768580\n",
      "Request 4 of 5: Ellerstadt\n",
      "http://api.openweathermap.org/data/2.5/weather?APPID=f794c4f97402e541fc87718afc020f36&units=imperial&id=2930965\n",
      "Request 5 of 5: Mangero\n",
      "http://api.openweathermap.org/data/2.5/weather?APPID=f794c4f97402e541fc87718afc020f36&units=imperial&id=1701799\n"
     ]
    },
    {
     "data": {
      "text/html": [
       "<div>\n",
       "<style>\n",
       "    .dataframe thead tr:only-child th {\n",
       "        text-align: right;\n",
       "    }\n",
       "\n",
       "    .dataframe thead th {\n",
       "        text-align: left;\n",
       "    }\n",
       "\n",
       "    .dataframe tbody tr th {\n",
       "        vertical-align: top;\n",
       "    }\n",
       "</style>\n",
       "<table border=\"1\" class=\"dataframe\">\n",
       "  <thead>\n",
       "    <tr style=\"text-align: right;\">\n",
       "      <th></th>\n",
       "      <th>country</th>\n",
       "      <th>id</th>\n",
       "      <th>name</th>\n",
       "      <th>lon</th>\n",
       "      <th>lat</th>\n",
       "      <th>fahrenheit</th>\n",
       "      <th>temp</th>\n",
       "      <th>humidity</th>\n",
       "      <th>cloudiness</th>\n",
       "      <th>windspeed</th>\n",
       "    </tr>\n",
       "  </thead>\n",
       "  <tbody>\n",
       "    <tr>\n",
       "      <th>0</th>\n",
       "      <td>DE</td>\n",
       "      <td>2871703</td>\n",
       "      <td>Merzalben</td>\n",
       "      <td>7.730770</td>\n",
       "      <td>49.244671</td>\n",
       "      <td>52.70</td>\n",
       "      <td>51.84</td>\n",
       "      <td>53</td>\n",
       "      <td>1</td>\n",
       "      <td>10.29</td>\n",
       "    </tr>\n",
       "    <tr>\n",
       "      <th>1</th>\n",
       "      <td>GB</td>\n",
       "      <td>2649013</td>\n",
       "      <td>Froxfield</td>\n",
       "      <td>-1.572030</td>\n",
       "      <td>51.410820</td>\n",
       "      <td>47.30</td>\n",
       "      <td>47.30</td>\n",
       "      <td>81</td>\n",
       "      <td>75</td>\n",
       "      <td>4.70</td>\n",
       "    </tr>\n",
       "    <tr>\n",
       "      <th>2</th>\n",
       "      <td>AT</td>\n",
       "      <td>2768580</td>\n",
       "      <td>PÃ¶llau am Greim</td>\n",
       "      <td>14.166670</td>\n",
       "      <td>47.200001</td>\n",
       "      <td>47.35</td>\n",
       "      <td>46.49</td>\n",
       "      <td>42</td>\n",
       "      <td>0</td>\n",
       "      <td>6.93</td>\n",
       "    </tr>\n",
       "    <tr>\n",
       "      <th>3</th>\n",
       "      <td>DE</td>\n",
       "      <td>2930965</td>\n",
       "      <td>Ellerstadt</td>\n",
       "      <td>8.259440</td>\n",
       "      <td>49.461670</td>\n",
       "      <td>51.80</td>\n",
       "      <td>51.21</td>\n",
       "      <td>43</td>\n",
       "      <td>0</td>\n",
       "      <td>5.82</td>\n",
       "    </tr>\n",
       "    <tr>\n",
       "      <th>4</th>\n",
       "      <td>PH</td>\n",
       "      <td>1701799</td>\n",
       "      <td>Mangero</td>\n",
       "      <td>122.677498</td>\n",
       "      <td>13.270280</td>\n",
       "      <td>79.80</td>\n",
       "      <td>79.80</td>\n",
       "      <td>100</td>\n",
       "      <td>76</td>\n",
       "      <td>21.85</td>\n",
       "    </tr>\n",
       "  </tbody>\n",
       "</table>\n",
       "</div>"
      ],
      "text/plain": [
       "  country       id              name         lon        lat  fahrenheit  \\\n",
       "0      DE  2871703         Merzalben    7.730770  49.244671       52.70   \n",
       "1      GB  2649013         Froxfield   -1.572030  51.410820       47.30   \n",
       "2      AT  2768580  PÃ¶llau am Greim   14.166670  47.200001       47.35   \n",
       "3      DE  2930965        Ellerstadt    8.259440  49.461670       51.80   \n",
       "4      PH  1701799           Mangero  122.677498  13.270280       79.80   \n",
       "\n",
       "    temp  humidity  cloudiness  windspeed  \n",
       "0  51.84        53           1      10.29  \n",
       "1  47.30        81          75       4.70  \n",
       "2  46.49        42           0       6.93  \n",
       "3  51.21        43           0       5.82  \n",
       "4  79.80       100          76      21.85  "
      ]
     },
     "execution_count": 16,
     "metadata": {},
     "output_type": "execute_result"
    }
   ],
   "source": [
    "city_temp_list = []\n",
    "city_humidity_list = []\n",
    "city_cloudiness_list = []\n",
    "city_windspeed_list = []\n",
    "\n",
    "for x in range(total_cities):\n",
    "    print(f\"Request {x+1} of {total_cities}: {random_city_df['name'][x]}\")\n",
    "    \n",
    "    url = \"http://api.openweathermap.org/data/2.5/weather?APPID=\"+api_key+\"&units=imperial&id=\"+str(random_city_df.id[x])\n",
    "    print(url)\n",
    "\n",
    "    response = requests.get(url)\n",
    "    data = response.json()\n",
    "    \n",
    "    city_temp_list.append(data['main']['temp'])\n",
    "    city_humidity_list.append(data['main']['humidity'])\n",
    "    city_cloudiness_list.append(data['clouds']['all'])\n",
    "    city_windspeed_list.append(data['wind']['speed'])\n",
    "\n",
    "random_city_df['temp'] = city_temp_list\n",
    "random_city_df['humidity'] = city_humidity_list\n",
    "random_city_df['cloudiness'] = city_cloudiness_list\n",
    "random_city_df['windspeed'] = city_windspeed_list\n",
    "\n",
    "random_city_df"
   ]
  },
  {
   "cell_type": "code",
   "execution_count": 15,
   "metadata": {},
   "outputs": [
    {
     "name": "stdout",
     "output_type": "stream",
     "text": [
      "{'base': 'stations',\n",
      " 'clouds': {'all': 76},\n",
      " 'cod': 200,\n",
      " 'coord': {'lat': 13.27, 'lon': 122.68},\n",
      " 'dt': 1521903856,\n",
      " 'id': 1701799,\n",
      " 'main': {'grnd_level': 1025.57,\n",
      "          'humidity': 100,\n",
      "          'pressure': 1025.57,\n",
      "          'sea_level': 1028.21,\n",
      "          'temp': 79.8,\n",
      "          'temp_max': 79.8,\n",
      "          'temp_min': 79.8},\n",
      " 'name': 'Mangero',\n",
      " 'sys': {'country': 'PH',\n",
      "         'message': 0.0042,\n",
      "         'sunrise': 1521841839,\n",
      "         'sunset': 1521885625},\n",
      " 'weather': [{'description': 'broken clouds',\n",
      "              'icon': '04n',\n",
      "              'id': 803,\n",
      "              'main': 'Clouds'}],\n",
      " 'wind': {'deg': 44.5008, 'speed': 21.85}}\n"
     ]
    }
   ],
   "source": [
    "pprint(data)"
   ]
  },
  {
   "cell_type": "markdown",
   "metadata": {},
   "source": [
    "<h1>Print Charts</h1>"
   ]
  },
  {
   "cell_type": "code",
   "execution_count": 14,
   "metadata": {},
   "outputs": [
    {
     "data": {
      "image/png": "[encoded data removed]",
      "text/plain": [
       "<matplotlib.figure.Figure at 0x24a4ad20eb8>"
      ]
     },
     "metadata": {},
     "output_type": "display_data"
    }
   ],
   "source": [
    "# This section prints a scatter plot of latitude by temperature\n",
    "\n",
    "plt.clf()\n",
    "\n",
    "# Create bubble plots\n",
    "plt.scatter(random_city_df['lat'], random_city_df['temp'], marker=\"o\", facecolors='gold', edgecolors=\"black\", alpha=1)\n",
    "\n",
    "# Create a title, x label, and y label\n",
    "plt.title(\"City Latitude by Temperature (F\\N{DEGREE SIGN})\", fontsize=20, fontweight=\"bold\")\n",
    "plt.xlabel(\"Latitude\", fontsize=14)\n",
    "plt.ylabel(\"Temperature (F\\N{DEGREE SIGN})\", fontsize=14)\n",
    "\n",
    "#plt.colorbar()\n",
    "\n",
    "# Set size of x and y tick labels\n",
    "plt.tick_params(labelsize=12)\n",
    "\n",
    "# Set x and y limits\n",
    "plt.xlim(-100,100)\n",
    "plt.ylim(0,130)\n",
    "\n",
    "# Save the figure\n",
    "#plt.savefig(\"LatByTemp.png\")\n",
    "\n",
    "# Display bubble chart\n",
    "plt.show()"
   ]
  },
  {
   "cell_type": "code",
   "execution_count": 20,
   "metadata": {},
   "outputs": [
    {
     "data": {
      "image/png": "[encoded data removed]",
      "text/plain": [
       "<matplotlib.figure.Figure at 0x24a4ae78c18>"
      ]
     },
     "metadata": {},
     "output_type": "display_data"
    }
   ],
   "source": [
    "plt.clf()\n",
    "\n",
    "# Create bubble plots\n",
    "plt.scatter(random_city_df['lat'], random_city_df['humidity'], marker=\"o\", facecolors='gold', edgecolors=\"black\", alpha=1)\n",
    "\n",
    "# Create a title, x label, and y label\n",
    "plt.title(\"City Latitude by Humidity (%)\", fontsize=20, fontweight=\"bold\")\n",
    "plt.xlabel(\"Latitude\", fontsize=14)\n",
    "plt.ylabel(\"Humidity (%)\", fontsize=14)\n",
    "\n",
    "#plt.colorbar()\n",
    "\n",
    "# Set size of x and y tick labels\n",
    "plt.tick_params(labelsize=12)\n",
    "\n",
    "# Set x and y limits\n",
    "plt.xlim(-100,100)\n",
    "plt.ylim(0,110)\n",
    "\n",
    "# Save the figure\n",
    "#plt.savefig(\"LatByTemp.png\")\n",
    "\n",
    "# Display bubble chart\n",
    "plt.show()"
   ]
  },
  {
   "cell_type": "code",
   "execution_count": null,
   "metadata": {
    "collapsed": true
   },
   "outputs": [],
   "source": [
    "plt.clf()\n",
    "\n",
    "# Create bubble plots\n",
    "plt.scatter(random_city_df['lat'], random_city_df['cloudiness'], marker=\"o\", facecolors='gold', edgecolors=\"black\", alpha=1)\n",
    "\n",
    "# Create a title, x label, and y label\n",
    "plt.title(\"City Latitude by Humidity (%)\", fontsize=20, fontweight=\"bold\")\n",
    "plt.xlabel(\"Latitude\", fontsize=14)\n",
    "plt.ylabel(\"Humidity (%)\", fontsize=14)\n",
    "\n",
    "#plt.colorbar()\n",
    "\n",
    "# Set size of x and y tick labels\n",
    "plt.tick_params(labelsize=12)\n",
    "\n",
    "# Set x and y limits\n",
    "plt.xlim(-100,100)\n",
    "plt.ylim(0,110)\n",
    "\n",
    "# Save the figure\n",
    "#plt.savefig(\"LatByTemp.png\")\n",
    "\n",
    "# Display bubble chart\n",
    "plt.show()"
   ]
  },
  {
   "cell_type": "markdown",
   "metadata": {
    "collapsed": true
   },
   "source": [
    "<h1>Export Results</h1>"
   ]
  },
  {
   "cell_type": "code",
   "execution_count": null,
   "metadata": {
    "collapsed": true
   },
   "outputs": [],
   "source": []
  }
 ],
 "metadata": {
  "kernelspec": {
   "display_name": "Python 3",
   "language": "python",
   "name": "python3"
  },
  "language_info": {
   "codemirror_mode": {
    "name": "ipython",
    "version": 3
   },
   "file_extension": ".py",
   "mimetype": "text/x-python",
   "name": "python",
   "nbconvert_exporter": "python",
   "pygments_lexer": "ipython3",
   "version": "3.6.3"
  },
  "varInspector": {
   "cols": {
    "lenName": 16,
    "lenType": 16,
    "lenVar": 40
   },
   "kernels_config": {
    "python": {
     "delete_cmd_postfix": "",
     "delete_cmd_prefix": "del ",
     "library": "var_list.py",
     "varRefreshCmd": "print(var_dic_list())"
    },
    "r": {
     "delete_cmd_postfix": ") ",
     "delete_cmd_prefix": "rm(",
     "library": "var_list.r",
     "varRefreshCmd": "cat(var_dic_list()) "
    }
   },
   "types_to_exclude": [
    "module",
    "function",
    "builtin_function_or_method",
    "instance",
    "_Feature"
   ],
   "window_display": false
  }
 },
 "nbformat": 4,
 "nbformat_minor": 2
}
