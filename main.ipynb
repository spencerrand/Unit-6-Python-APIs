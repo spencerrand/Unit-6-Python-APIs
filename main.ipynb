{
 "cells": [
  {
   "cell_type": "markdown",
   "metadata": {},
   "source": [
    "<b><u>Observations</b></u>\n",
    "<p>1. observation</p>\n",
    "<p>2. observation</p>\n",
    "<p>3. observation</p>"
   ]
  },
  {
   "cell_type": "code",
   "execution_count": 1,
   "metadata": {
    "collapsed": true
   },
   "outputs": [],
   "source": [
    "# Dependencies\n",
    "import random\n",
    "import json\n",
    "import requests\n",
    "from pprint import pprint\n",
    "from config import api_key\n",
    "import pandas as pd\n",
    "import seaborn as sns\n",
    "from citipy import citipy\n",
    "import matplotlib.pyplot as plt\n",
    "\n",
    "# Set the seaborn chart style\n",
    "sns.set()\n",
    "\n",
    "# Dependencies for downloading and uncompressing list of cities from OpenWeatherMap\n",
    "import urllib.request\n",
    "import gzip"
   ]
  },
  {
   "cell_type": "markdown",
   "metadata": {},
   "source": [
    "<h1>Download City List</h1>"
   ]
  },
  {
   "cell_type": "code",
   "execution_count": 2,
   "metadata": {},
   "outputs": [
    {
     "data": {
      "text/html": [
       "<div>\n",
       "<style>\n",
       "    .dataframe thead tr:only-child th {\n",
       "        text-align: right;\n",
       "    }\n",
       "\n",
       "    .dataframe thead th {\n",
       "        text-align: left;\n",
       "    }\n",
       "\n",
       "    .dataframe tbody tr th {\n",
       "        vertical-align: top;\n",
       "    }\n",
       "</style>\n",
       "<table border=\"1\" class=\"dataframe\">\n",
       "  <thead>\n",
       "    <tr style=\"text-align: right;\">\n",
       "      <th></th>\n",
       "      <th>coord</th>\n",
       "      <th>country</th>\n",
       "      <th>id</th>\n",
       "      <th>name</th>\n",
       "    </tr>\n",
       "  </thead>\n",
       "  <tbody>\n",
       "    <tr>\n",
       "      <th>0</th>\n",
       "      <td>{'lon': 34.283333, 'lat': 44.549999}</td>\n",
       "      <td>UA</td>\n",
       "      <td>707860</td>\n",
       "      <td>Hurzuf</td>\n",
       "    </tr>\n",
       "    <tr>\n",
       "      <th>1</th>\n",
       "      <td>{'lon': 37.666668, 'lat': 55.683334}</td>\n",
       "      <td>RU</td>\n",
       "      <td>519188</td>\n",
       "      <td>Novinki</td>\n",
       "    </tr>\n",
       "    <tr>\n",
       "      <th>2</th>\n",
       "      <td>{'lon': 84.633331, 'lat': 28}</td>\n",
       "      <td>NP</td>\n",
       "      <td>1283378</td>\n",
       "      <td>GorkhÄ�</td>\n",
       "    </tr>\n",
       "    <tr>\n",
       "      <th>3</th>\n",
       "      <td>{'lon': 76, 'lat': 29}</td>\n",
       "      <td>IN</td>\n",
       "      <td>1270260</td>\n",
       "      <td>State of HaryÄ�na</td>\n",
       "    </tr>\n",
       "    <tr>\n",
       "      <th>4</th>\n",
       "      <td>{'lon': 33.900002, 'lat': 44.599998}</td>\n",
       "      <td>UA</td>\n",
       "      <td>708546</td>\n",
       "      <td>Holubynka</td>\n",
       "    </tr>\n",
       "  </tbody>\n",
       "</table>\n",
       "</div>"
      ],
      "text/plain": [
       "                                  coord country       id               name\n",
       "0  {'lon': 34.283333, 'lat': 44.549999}      UA   707860             Hurzuf\n",
       "1  {'lon': 37.666668, 'lat': 55.683334}      RU   519188            Novinki\n",
       "2         {'lon': 84.633331, 'lat': 28}      NP  1283378            GorkhÄ�\n",
       "3                {'lon': 76, 'lat': 29}      IN  1270260  State of HaryÄ�na\n",
       "4  {'lon': 33.900002, 'lat': 44.599998}      UA   708546          Holubynka"
      ]
     },
     "execution_count": 2,
     "metadata": {},
     "output_type": "execute_result"
    }
   ],
   "source": [
    "# This section downloads the list of cities and IDs that OpenWeatherMap uses\n",
    "\n",
    "# File names\n",
    "city_index_zip_file = \"city.list.json.gz\"\n",
    "city_index_json_file = 'city.list.json'\n",
    "\n",
    "# Download file\n",
    "urllib.request.urlretrieve (\"http://bulk.openweathermap.org/sample/city.list.json.gz\", city_index_zip_file)\n",
    "\n",
    "# Uncompress gzip file to json\n",
    "inF = gzip.open(city_index_zip_file, 'rb')\n",
    "outF = open(city_index_json_file, 'wb')\n",
    "outF.write( inF.read() )\n",
    "inF.close()\n",
    "outF.close()\n",
    "\n",
    "# Read json file into a dataframe\n",
    "city_index_df = pd.read_json(city_index_json_file)\n",
    "\n",
    "# Print top five rows\n",
    "city_index_df.head()"
   ]
  },
  {
   "cell_type": "markdown",
   "metadata": {},
   "source": [
    "<h1>Generate City List</h1>"
   ]
  },
  {
   "cell_type": "code",
   "execution_count": 3,
   "metadata": {},
   "outputs": [
    {
     "name": "stdout",
     "output_type": "stream",
     "text": [
      "  country       id           name         lon        lat\n",
      "0      DE  6552562     Lachendorf   10.250000  52.616699\n",
      "1      US  5128723  Niagara Falls  -79.056709  43.094501\n",
      "2      ID  7914075   Babakankiray  107.965103  -7.683900\n",
      "3      ES  2521823     AlquerÃ­as   -1.037480  38.014011\n",
      "4      ID  1634281       Detukeli  121.819504  -8.631800\n"
     ]
    }
   ],
   "source": [
    "# This section selects 500 random cities from the city index list\n",
    "\n",
    "# Start by creating an empty dataframe\n",
    "random_city_df = pd.DataFrame(columns=['coord', 'country', 'id', 'name', 'lon', 'lat'])\n",
    "\n",
    "# Set counter to zero for looping\n",
    "counter = 0\n",
    "\n",
    "# Set total number of random cities\n",
    "total_cities = 5\n",
    "\n",
    "# Loop while counter is less than number of cities\n",
    "while counter < total_cities:\n",
    "    \n",
    "    # Pick a random row (must be length - 1 since row starts at 0)\n",
    "    row = random.randint(0, len(city_index_df)-1)\n",
    "    \n",
    "    # If ID is already in the list then do nothing repeat loop\n",
    "    if any(random_city_df.id == city_index_df['id'][row]):\n",
    "        pass\n",
    "    \n",
    "    # If ID isn't in the list then add that row to the dataframe, including latitude and longitude\n",
    "    else:\n",
    "        random_city_df.loc[counter] = city_index_df.iloc[row,:]\n",
    "        random_city_df.lat[counter] = city_index_df['coord'][row]['lat']\n",
    "        random_city_df.lon[counter] = city_index_df['coord'][row]['lon']\n",
    "        counter = counter + 1\n",
    "        \n",
    "# Change latitude and longitude columns from object to float\n",
    "random_city_df[['lat','lon']] = random_city_df[['lat','lon']].apply(pd.to_numeric)\n",
    "\n",
    "# Remove coordinate column, since we parsed out that data\n",
    "del random_city_df['coord']\n",
    "\n",
    "print(random_city_df)"
   ]
  },
  {
   "cell_type": "markdown",
   "metadata": {},
   "source": [
    "<h1>Weather API Call</h1>"
   ]
  },
  {
   "cell_type": "code",
   "execution_count": 5,
   "metadata": {},
   "outputs": [
    {
     "name": "stdout",
     "output_type": "stream",
     "text": [
      "Request 1 of 5: Lachendorf\n",
      "http://api.openweathermap.org/data/2.5/weather?APPID=f794c4f97402e541fc87718afc020f36&units=imperial&id=6552562\n",
      "50\n",
      "Request 2 of 5: Niagara Falls\n",
      "http://api.openweathermap.org/data/2.5/weather?APPID=f794c4f97402e541fc87718afc020f36&units=imperial&id=5128723\n",
      "29.1\n",
      "Request 3 of 5: Babakankiray\n",
      "http://api.openweathermap.org/data/2.5/weather?APPID=f794c4f97402e541fc87718afc020f36&units=imperial&id=7914075\n",
      "80.16\n",
      "Request 4 of 5: AlquerÃ­as\n",
      "http://api.openweathermap.org/data/2.5/weather?APPID=f794c4f97402e541fc87718afc020f36&units=imperial&id=2521823\n",
      "63.81\n",
      "Request 5 of 5: Detukeli\n",
      "http://api.openweathermap.org/data/2.5/weather?APPID=f794c4f97402e541fc87718afc020f36&units=imperial&id=1634281\n",
      "80.02\n"
     ]
    },
    {
     "data": {
      "text/html": [
       "<div>\n",
       "<style>\n",
       "    .dataframe thead tr:only-child th {\n",
       "        text-align: right;\n",
       "    }\n",
       "\n",
       "    .dataframe thead th {\n",
       "        text-align: left;\n",
       "    }\n",
       "\n",
       "    .dataframe tbody tr th {\n",
       "        vertical-align: top;\n",
       "    }\n",
       "</style>\n",
       "<table border=\"1\" class=\"dataframe\">\n",
       "  <thead>\n",
       "    <tr style=\"text-align: right;\">\n",
       "      <th></th>\n",
       "      <th>country</th>\n",
       "      <th>id</th>\n",
       "      <th>name</th>\n",
       "      <th>lon</th>\n",
       "      <th>lat</th>\n",
       "      <th>temp</th>\n",
       "      <th>fahrenheit</th>\n",
       "    </tr>\n",
       "  </thead>\n",
       "  <tbody>\n",
       "    <tr>\n",
       "      <th>0</th>\n",
       "      <td>DE</td>\n",
       "      <td>6552562</td>\n",
       "      <td>Lachendorf</td>\n",
       "      <td>10.250000</td>\n",
       "      <td>52.616699</td>\n",
       "      <td>10.00</td>\n",
       "      <td>50.00</td>\n",
       "    </tr>\n",
       "    <tr>\n",
       "      <th>1</th>\n",
       "      <td>US</td>\n",
       "      <td>5128723</td>\n",
       "      <td>Niagara Falls</td>\n",
       "      <td>-79.056709</td>\n",
       "      <td>43.094501</td>\n",
       "      <td>-1.61</td>\n",
       "      <td>29.10</td>\n",
       "    </tr>\n",
       "    <tr>\n",
       "      <th>2</th>\n",
       "      <td>ID</td>\n",
       "      <td>7914075</td>\n",
       "      <td>Babakankiray</td>\n",
       "      <td>107.965103</td>\n",
       "      <td>-7.683900</td>\n",
       "      <td>26.75</td>\n",
       "      <td>80.16</td>\n",
       "    </tr>\n",
       "    <tr>\n",
       "      <th>3</th>\n",
       "      <td>ES</td>\n",
       "      <td>2521823</td>\n",
       "      <td>AlquerÃ­as</td>\n",
       "      <td>-1.037480</td>\n",
       "      <td>38.014011</td>\n",
       "      <td>17.67</td>\n",
       "      <td>63.81</td>\n",
       "    </tr>\n",
       "    <tr>\n",
       "      <th>4</th>\n",
       "      <td>ID</td>\n",
       "      <td>1634281</td>\n",
       "      <td>Detukeli</td>\n",
       "      <td>121.819504</td>\n",
       "      <td>-8.631800</td>\n",
       "      <td>26.68</td>\n",
       "      <td>80.02</td>\n",
       "    </tr>\n",
       "  </tbody>\n",
       "</table>\n",
       "</div>"
      ],
      "text/plain": [
       "  country       id           name         lon        lat   temp  fahrenheit \n",
       "0      DE  6552562     Lachendorf   10.250000  52.616699  10.00        50.00\n",
       "1      US  5128723  Niagara Falls  -79.056709  43.094501  -1.61        29.10\n",
       "2      ID  7914075   Babakankiray  107.965103  -7.683900  26.75        80.16\n",
       "3      ES  2521823     AlquerÃ­as   -1.037480  38.014011  17.67        63.81\n",
       "4      ID  1634281       Detukeli  121.819504  -8.631800  26.68        80.02"
      ]
     },
     "execution_count": 5,
     "metadata": {},
     "output_type": "execute_result"
    }
   ],
   "source": [
    "city_temp_list = []\n",
    "\n",
    "for x in range(total_cities):\n",
    "    print(f\"Request {x+1} of {total_cities}: {random_city_df['name'][x]}\")\n",
    "    \n",
    "    url = \"http://api.openweathermap.org/data/2.5/weather?APPID=\"+api_key+\"&units=imperial&id=\"+str(random_city_df.id[x])\n",
    "    print(url)\n",
    "\n",
    "    response = requests.get(url)\n",
    "    data = response.json()\n",
    "    \n",
    "    city_temp_list.append(data['main']['temp'])\n",
    "\n",
    "random_city_df['fahrenheit'] = city_temp_list\n",
    "random_city_df"
   ]
  },
  {
   "cell_type": "markdown",
   "metadata": {},
   "source": [
    "<h1>Print Charts</h1>"
   ]
  },
  {
   "cell_type": "code",
   "execution_count": null,
   "metadata": {
    "collapsed": true
   },
   "outputs": [],
   "source": [
    "# This section prints a scatter plot of latitude by temperature\n",
    "\n",
    "# Create bubble plots\n",
    "plt.scatter(latitude_list, temp, marker=\"o\", facecolors='gold', edgecolors=\"black\", alpha=1)\n",
    "\n",
    "# Create a title, x label, and y label\n",
    "plt.title(\"City Temperature by Temperature (F\\N{DEGREE SIGN})\", fontsize=20, fontweight=\"bold\")\n",
    "plt.xlabel(\"Latitude\", fontsize=14)\n",
    "plt.ylabel(\"Temperature (F\\N{DEGREE SIGN})\", fontsize=14)\n",
    "\n",
    "#plt.colorbar()\n",
    "\n",
    "# Set size of x and y tick labels\n",
    "plt.tick_params(labelsize=12)\n",
    "\n",
    "# Set x and y limits\n",
    "#plt.xlim(0, max(rural_total_rides_by_city.max(), urban_total_rides_by_city.max(), suburban_total_rides_by_city.max())+5)\n",
    "#plt.ylim(15, max(rural_avg_fare_by_city.max(), urban_avg_fare_by_city.max(), suburban_avg_fare_by_city.max())+5)\n",
    "\n",
    "# Display bubble chart\n",
    "plt.show()"
   ]
  },
  {
   "cell_type": "code",
   "execution_count": null,
   "metadata": {
    "collapsed": true
   },
   "outputs": [],
   "source": []
  },
  {
   "cell_type": "markdown",
   "metadata": {
    "collapsed": true
   },
   "source": [
    "<h1>Export Results</h1>"
   ]
  },
  {
   "cell_type": "code",
   "execution_count": null,
   "metadata": {
    "collapsed": true
   },
   "outputs": [],
   "source": []
  }
 ],
 "metadata": {
  "kernelspec": {
   "display_name": "Python 3",
   "language": "python",
   "name": "python3"
  },
  "language_info": {
   "codemirror_mode": {
    "name": "ipython",
    "version": 3
   },
   "file_extension": ".py",
   "mimetype": "text/x-python",
   "name": "python",
   "nbconvert_exporter": "python",
   "pygments_lexer": "ipython3",
   "version": "3.6.3"
  },
  "varInspector": {
   "cols": {
    "lenName": 16,
    "lenType": 16,
    "lenVar": 40
   },
   "kernels_config": {
    "python": {
     "delete_cmd_postfix": "",
     "delete_cmd_prefix": "del ",
     "library": "var_list.py",
     "varRefreshCmd": "print(var_dic_list())"
    },
    "r": {
     "delete_cmd_postfix": ") ",
     "delete_cmd_prefix": "rm(",
     "library": "var_list.r",
     "varRefreshCmd": "cat(var_dic_list()) "
    }
   },
   "types_to_exclude": [
    "module",
    "function",
    "builtin_function_or_method",
    "instance",
    "_Feature"
   ],
   "window_display": false
  }
 },
 "nbformat": 4,
 "nbformat_minor": 2
}
