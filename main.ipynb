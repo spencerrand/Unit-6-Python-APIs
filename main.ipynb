{
 "cells": [
  {
   "cell_type": "markdown",
   "metadata": {},
   "source": [
    "<b><u>Observations</b></u>\n",
    "<p>1. observation</p>\n",
    "<p>2. observation</p>\n",
    "<p>3. observation</p>"
   ]
  },
  {
   "cell_type": "code",
   "execution_count": 2,
   "metadata": {
    "collapsed": true
   },
   "outputs": [],
   "source": [
    "# Dependencies\n",
    "import random\n",
    "import json\n",
    "import requests\n",
    "from pprint import pprint\n",
    "from config import api_key\n",
    "import pandas as pd\n",
    "import seaborn as sns\n",
    "from citipy import citipy\n",
    "import matplotlib.pyplot as plt\n",
    "\n",
    "# Set the seaborn chart style\n",
    "sns.set()\n",
    "\n",
    "# Dependencies for downloading and uncompressing list of cities from OpenWeatherMap\n",
    "import urllib.request\n",
    "import gzip"
   ]
  },
  {
   "cell_type": "code",
   "execution_count": 3,
   "metadata": {},
   "outputs": [
    {
     "name": "stdout",
     "output_type": "stream",
     "text": [
      "{'base': 'stations',\n",
      " 'clouds': {'all': 90},\n",
      " 'cod': 200,\n",
      " 'coord': {'lat': -16.92, 'lon': 145.77},\n",
      " 'dt': 1521905400,\n",
      " 'id': 2172797,\n",
      " 'main': {'humidity': 88,\n",
      "          'pressure': 1007,\n",
      "          'temp': 75.2,\n",
      "          'temp_max': 75.2,\n",
      "          'temp_min': 75.2},\n",
      " 'name': 'Cairns',\n",
      " 'sys': {'country': 'AU',\n",
      "         'id': 8166,\n",
      "         'message': 0.0041,\n",
      "         'sunrise': 1521836492,\n",
      "         'sunset': 1521879864,\n",
      "         'type': 1},\n",
      " 'visibility': 8000,\n",
      " 'weather': [{'description': 'light intensity shower rain',\n",
      "              'icon': '09n',\n",
      "              'id': 520,\n",
      "              'main': 'Rain'}],\n",
      " 'wind': {'deg': 150, 'speed': 13.87}}\n"
     ]
    }
   ],
   "source": [
    "# Print out a sample of\n",
    "pprint(requests.get(\"http://api.openweathermap.org/data/2.5/weather?APPID=\"+api_key+\"&units=imperial&id=2172797\").json())"
   ]
  },
  {
   "cell_type": "markdown",
   "metadata": {},
   "source": [
    "<h1>Download City List</h1>"
   ]
  },
  {
   "cell_type": "code",
   "execution_count": 4,
   "metadata": {},
   "outputs": [
    {
     "data": {
      "text/html": [
       "<div>\n",
       "<style>\n",
       "    .dataframe thead tr:only-child th {\n",
       "        text-align: right;\n",
       "    }\n",
       "\n",
       "    .dataframe thead th {\n",
       "        text-align: left;\n",
       "    }\n",
       "\n",
       "    .dataframe tbody tr th {\n",
       "        vertical-align: top;\n",
       "    }\n",
       "</style>\n",
       "<table border=\"1\" class=\"dataframe\">\n",
       "  <thead>\n",
       "    <tr style=\"text-align: right;\">\n",
       "      <th></th>\n",
       "      <th>coord</th>\n",
       "      <th>country</th>\n",
       "      <th>id</th>\n",
       "      <th>name</th>\n",
       "    </tr>\n",
       "  </thead>\n",
       "  <tbody>\n",
       "    <tr>\n",
       "      <th>0</th>\n",
       "      <td>{'lon': 34.283333, 'lat': 44.549999}</td>\n",
       "      <td>UA</td>\n",
       "      <td>707860</td>\n",
       "      <td>Hurzuf</td>\n",
       "    </tr>\n",
       "    <tr>\n",
       "      <th>1</th>\n",
       "      <td>{'lon': 37.666668, 'lat': 55.683334}</td>\n",
       "      <td>RU</td>\n",
       "      <td>519188</td>\n",
       "      <td>Novinki</td>\n",
       "    </tr>\n",
       "    <tr>\n",
       "      <th>2</th>\n",
       "      <td>{'lon': 84.633331, 'lat': 28}</td>\n",
       "      <td>NP</td>\n",
       "      <td>1283378</td>\n",
       "      <td>GorkhÄ�</td>\n",
       "    </tr>\n",
       "    <tr>\n",
       "      <th>3</th>\n",
       "      <td>{'lon': 76, 'lat': 29}</td>\n",
       "      <td>IN</td>\n",
       "      <td>1270260</td>\n",
       "      <td>State of HaryÄ�na</td>\n",
       "    </tr>\n",
       "    <tr>\n",
       "      <th>4</th>\n",
       "      <td>{'lon': 33.900002, 'lat': 44.599998}</td>\n",
       "      <td>UA</td>\n",
       "      <td>708546</td>\n",
       "      <td>Holubynka</td>\n",
       "    </tr>\n",
       "  </tbody>\n",
       "</table>\n",
       "</div>"
      ],
      "text/plain": [
       "                                  coord country       id               name\n",
       "0  {'lon': 34.283333, 'lat': 44.549999}      UA   707860             Hurzuf\n",
       "1  {'lon': 37.666668, 'lat': 55.683334}      RU   519188            Novinki\n",
       "2         {'lon': 84.633331, 'lat': 28}      NP  1283378            GorkhÄ�\n",
       "3                {'lon': 76, 'lat': 29}      IN  1270260  State of HaryÄ�na\n",
       "4  {'lon': 33.900002, 'lat': 44.599998}      UA   708546          Holubynka"
      ]
     },
     "execution_count": 4,
     "metadata": {},
     "output_type": "execute_result"
    }
   ],
   "source": [
    "# This section downloads the list of cities and IDs that OpenWeatherMap uses\n",
    "\n",
    "# File names\n",
    "city_index_zip_file = \"city.list.json.gz\"\n",
    "city_index_json_file = 'city.list.json'\n",
    "\n",
    "# Download file\n",
    "urllib.request.urlretrieve (\"http://bulk.openweathermap.org/sample/city.list.json.gz\", city_index_zip_file)\n",
    "\n",
    "# Uncompress gzip file to json\n",
    "inF = gzip.open(city_index_zip_file, 'rb')\n",
    "outF = open(city_index_json_file, 'wb')\n",
    "outF.write( inF.read() )\n",
    "inF.close()\n",
    "outF.close()\n",
    "\n",
    "# Read json file into a dataframe\n",
    "city_index_df = pd.read_json(city_index_json_file)\n",
    "\n",
    "# Print top five rows\n",
    "city_index_df.head()"
   ]
  },
  {
   "cell_type": "markdown",
   "metadata": {},
   "source": [
    "<h1>Generate City List</h1>"
   ]
  },
  {
   "cell_type": "code",
   "execution_count": 5,
   "metadata": {},
   "outputs": [],
   "source": [
    "# This section selects 500 random cities from the city index list\n",
    "\n",
    "# Start by creating an empty dataframe\n",
    "random_city_df = pd.DataFrame(columns=['coord', 'country', 'id', 'name', 'lon', 'lat'])\n",
    "\n",
    "# Set counter to zero for looping\n",
    "counter = 0\n",
    "\n",
    "# Set total number of random cities\n",
    "total_cities = 555\n",
    "\n",
    "# Loop while counter is less than number of cities\n",
    "while counter < total_cities:\n",
    "    \n",
    "    # Pick a random row (must be length - 1 since row starts at 0)\n",
    "    row = random.randint(0, len(city_index_df)-1)\n",
    "    \n",
    "    # If ID is already in the list then do nothing repeat loop\n",
    "    if any(random_city_df.id == city_index_df['id'][row]):\n",
    "        pass\n",
    "    \n",
    "    # If ID isn't in the list then add that row to the dataframe, including latitude and longitude\n",
    "    else:\n",
    "        random_city_df.loc[counter] = city_index_df.iloc[row,:]\n",
    "        random_city_df.lat[counter] = city_index_df['coord'][row]['lat']\n",
    "        random_city_df.lon[counter] = city_index_df['coord'][row]['lon']\n",
    "        counter = counter + 1\n",
    "        \n",
    "# Change latitude and longitude columns from object to float\n",
    "random_city_df[['lat','lon']] = random_city_df[['lat','lon']].apply(pd.to_numeric)\n",
    "\n",
    "# Remove coordinate column, since we parsed out that data\n",
    "del random_city_df['coord']"
   ]
  },
  {
   "cell_type": "markdown",
   "metadata": {},
   "source": [
    "<h1>Weather API Call</h1>"
   ]
  },
  {
   "cell_type": "code",
   "execution_count": 6,
   "metadata": {},
   "outputs": [
    {
     "name": "stdout",
     "output_type": "stream",
     "text": [
      "Request 1 of 50: Sinchâ€™Å�n-dong\n",
      "http://api.openweathermap.org/data/2.5/weather?APPID=f794c4f97402e541fc87718afc020f36&units=imperial&id=1837217\n",
      "Request 2 of 50: Ignacio Zaragoza\n",
      "http://api.openweathermap.org/data/2.5/weather?APPID=f794c4f97402e541fc87718afc020f36&units=imperial&id=4004419\n",
      "Request 3 of 50: Tarare\n",
      "http://api.openweathermap.org/data/2.5/weather?APPID=f794c4f97402e541fc87718afc020f36&units=imperial&id=2973394\n",
      "Request 4 of 50: Cervena Voda\n",
      "http://api.openweathermap.org/data/2.5/weather?APPID=f794c4f97402e541fc87718afc020f36&units=imperial&id=3077972\n",
      "Request 5 of 50: Wymondham\n",
      "http://api.openweathermap.org/data/2.5/weather?APPID=f794c4f97402e541fc87718afc020f36&units=imperial&id=2633445\n",
      "Request 6 of 50: Hornaing\n",
      "http://api.openweathermap.org/data/2.5/weather?APPID=f794c4f97402e541fc87718afc020f36&units=imperial&id=3013152\n",
      "Request 7 of 50: Taguatinga\n",
      "http://api.openweathermap.org/data/2.5/weather?APPID=f794c4f97402e541fc87718afc020f36&units=imperial&id=3447075\n",
      "Request 8 of 50: Mae Phrik\n",
      "http://api.openweathermap.org/data/2.5/weather?APPID=f794c4f97402e541fc87718afc020f36&units=imperial&id=1152204\n",
      "Request 9 of 50: Usseaux\n",
      "http://api.openweathermap.org/data/2.5/weather?APPID=f794c4f97402e541fc87718afc020f36&units=imperial&id=6535425\n",
      "Request 10 of 50: Bezirk Meilen\n",
      "http://api.openweathermap.org/data/2.5/weather?APPID=f794c4f97402e541fc87718afc020f36&units=imperial&id=2659702\n",
      "Request 11 of 50: Losari\n",
      "http://api.openweathermap.org/data/2.5/weather?APPID=f794c4f97402e541fc87718afc020f36&units=imperial&id=6373888\n",
      "Request 12 of 50: Hampton\n",
      "http://api.openweathermap.org/data/2.5/weather?APPID=f794c4f97402e541fc87718afc020f36&units=imperial&id=4580983\n",
      "Request 13 of 50: Arua District\n",
      "http://api.openweathermap.org/data/2.5/weather?APPID=f794c4f97402e541fc87718afc020f36&units=imperial&id=443328\n",
      "Request 14 of 50: Plover\n",
      "http://api.openweathermap.org/data/2.5/weather?APPID=f794c4f97402e541fc87718afc020f36&units=imperial&id=5267537\n",
      "Request 15 of 50: Odobesti\n",
      "http://api.openweathermap.org/data/2.5/weather?APPID=f794c4f97402e541fc87718afc020f36&units=imperial&id=671974\n",
      "Request 16 of 50: Kaoota\n",
      "http://api.openweathermap.org/data/2.5/weather?APPID=f794c4f97402e541fc87718afc020f36&units=imperial&id=2161858\n",
      "Request 17 of 50: Mairena del Alcor\n",
      "http://api.openweathermap.org/data/2.5/weather?APPID=f794c4f97402e541fc87718afc020f36&units=imperial&id=6361013\n",
      "Request 18 of 50: Llutxent\n",
      "http://api.openweathermap.org/data/2.5/weather?APPID=f794c4f97402e541fc87718afc020f36&units=imperial&id=2514386\n",
      "Request 19 of 50: Roiffieux\n",
      "http://api.openweathermap.org/data/2.5/weather?APPID=f794c4f97402e541fc87718afc020f36&units=imperial&id=6425773\n",
      "Request 20 of 50: Eschhofen\n",
      "http://api.openweathermap.org/data/2.5/weather?APPID=f794c4f97402e541fc87718afc020f36&units=imperial&id=2929000\n",
      "Request 21 of 50: RÃ¼bsen\n",
      "http://api.openweathermap.org/data/2.5/weather?APPID=f794c4f97402e541fc87718afc020f36&units=imperial&id=2843526\n",
      "Request 22 of 50: Torre de Miguel Sesmero\n",
      "http://api.openweathermap.org/data/2.5/weather?APPID=f794c4f97402e541fc87718afc020f36&units=imperial&id=6355996\n",
      "Request 23 of 50: DeRidder\n",
      "http://api.openweathermap.org/data/2.5/weather?APPID=f794c4f97402e541fc87718afc020f36&units=imperial&id=4321781\n",
      "Request 24 of 50: Kirchdorf\n",
      "http://api.openweathermap.org/data/2.5/weather?APPID=f794c4f97402e541fc87718afc020f36&units=imperial&id=6556289\n",
      "Request 25 of 50: Ober-FlÃ¶rsheim\n",
      "http://api.openweathermap.org/data/2.5/weather?APPID=f794c4f97402e541fc87718afc020f36&units=imperial&id=6554869\n",
      "Request 26 of 50: Kriftel\n",
      "http://api.openweathermap.org/data/2.5/weather?APPID=f794c4f97402e541fc87718afc020f36&units=imperial&id=6553193\n",
      "Request 27 of 50: Kiraz\n",
      "http://api.openweathermap.org/data/2.5/weather?APPID=f794c4f97402e541fc87718afc020f36&units=imperial&id=307727\n",
      "Request 28 of 50: QuintanaÃ©lez\n",
      "http://api.openweathermap.org/data/2.5/weather?APPID=f794c4f97402e541fc87718afc020f36&units=imperial&id=6356547\n",
      "Request 29 of 50: Adancata\n",
      "http://api.openweathermap.org/data/2.5/weather?APPID=f794c4f97402e541fc87718afc020f36&units=imperial&id=686674\n",
      "Request 30 of 50: Kimberly\n",
      "http://api.openweathermap.org/data/2.5/weather?APPID=f794c4f97402e541fc87718afc020f36&units=imperial&id=4070806\n",
      "Request 31 of 50: Saclay\n",
      "http://api.openweathermap.org/data/2.5/weather?APPID=f794c4f97402e541fc87718afc020f36&units=imperial&id=2982043\n",
      "Request 32 of 50: KÅ�tari\n",
      "http://api.openweathermap.org/data/2.5/weather?APPID=f794c4f97402e541fc87718afc020f36&units=imperial&id=1858681\n",
      "Request 33 of 50: Cuba\n",
      "http://api.openweathermap.org/data/2.5/weather?APPID=f794c4f97402e541fc87718afc020f36&units=imperial&id=8010438\n",
      "Request 34 of 50: Orebro\n",
      "http://api.openweathermap.org/data/2.5/weather?APPID=f794c4f97402e541fc87718afc020f36&units=imperial&id=2686657\n",
      "Request 35 of 50: Downers Grove\n",
      "http://api.openweathermap.org/data/2.5/weather?APPID=f794c4f97402e541fc87718afc020f36&units=imperial&id=4890119\n",
      "Request 36 of 50: Avtonomna Respublika Krym\n",
      "http://api.openweathermap.org/data/2.5/weather?APPID=f794c4f97402e541fc87718afc020f36&units=imperial&id=703883\n",
      "Request 37 of 50: Middletown\n",
      "http://api.openweathermap.org/data/2.5/weather?APPID=f794c4f97402e541fc87718afc020f36&units=imperial&id=4143637\n",
      "Request 38 of 50: Lukâ€™yanovo\n",
      "http://api.openweathermap.org/data/2.5/weather?APPID=f794c4f97402e541fc87718afc020f36&units=imperial&id=533374\n",
      "Request 39 of 50: Casas de Benitez\n",
      "http://api.openweathermap.org/data/2.5/weather?APPID=f794c4f97402e541fc87718afc020f36&units=imperial&id=2519954\n",
      "Request 40 of 50: Palmview\n",
      "http://api.openweathermap.org/data/2.5/weather?APPID=f794c4f97402e541fc87718afc020f36&units=imperial&id=4717339\n",
      "Request 41 of 50: el Pont de Suert\n",
      "http://api.openweathermap.org/data/2.5/weather?APPID=f794c4f97402e541fc87718afc020f36&units=imperial&id=6358910\n",
      "Request 42 of 50: Xiushui\n",
      "http://api.openweathermap.org/data/2.5/weather?APPID=f794c4f97402e541fc87718afc020f36&units=imperial&id=1785565\n",
      "Request 43 of 50: Lussow\n",
      "http://api.openweathermap.org/data/2.5/weather?APPID=f794c4f97402e541fc87718afc020f36&units=imperial&id=2874984\n",
      "Request 44 of 50: MÃ©nil-Erreux\n",
      "http://api.openweathermap.org/data/2.5/weather?APPID=f794c4f97402e541fc87718afc020f36&units=imperial&id=6439154\n",
      "Request 45 of 50: Mallapuram\n",
      "http://api.openweathermap.org/data/2.5/weather?APPID=f794c4f97402e541fc87718afc020f36&units=imperial&id=1264050\n",
      "Request 46 of 50: Mestna ObÄ�ina Koper\n",
      "http://api.openweathermap.org/data/2.5/weather?APPID=f794c4f97402e541fc87718afc020f36&units=imperial&id=3197752\n",
      "Request 47 of 50: Borgo San Giacomo\n",
      "http://api.openweathermap.org/data/2.5/weather?APPID=f794c4f97402e541fc87718afc020f36&units=imperial&id=3181755\n",
      "Request 48 of 50: Radisici\n",
      "http://api.openweathermap.org/data/2.5/weather?APPID=f794c4f97402e541fc87718afc020f36&units=imperial&id=3192123\n",
      "Request 49 of 50: Goshaingaon\n",
      "http://api.openweathermap.org/data/2.5/weather?APPID=f794c4f97402e541fc87718afc020f36&units=imperial&id=1270888\n",
      "Request 50 of 50: Zanzibar Urban/West Region\n",
      "http://api.openweathermap.org/data/2.5/weather?APPID=f794c4f97402e541fc87718afc020f36&units=imperial&id=148724\n"
     ]
    }
   ],
   "source": [
    "city_temp_list = []\n",
    "city_humidity_list = []\n",
    "city_cloudiness_list = []\n",
    "city_windspeed_list = []\n",
    "\n",
    "for x in range(total_cities):\n",
    "    print(f\"Request {x+1} of {total_cities}: {random_city_df['name'][x]}\")\n",
    "    \n",
    "    url = \"http://api.openweathermap.org/data/2.5/weather?APPID=\"+api_key+\"&units=imperial&id=\"+str(random_city_df.id[x])\n",
    "    print(url)\n",
    "\n",
    "    response = requests.get(url)\n",
    "    data = response.json()\n",
    "    \n",
    "    city_temp_list.append(data['main']['temp'])\n",
    "    city_humidity_list.append(data['main']['humidity'])\n",
    "    city_cloudiness_list.append(data['clouds']['all'])\n",
    "    city_windspeed_list.append(data['wind']['speed'])\n",
    "\n",
    "random_city_df['temp'] = city_temp_list\n",
    "random_city_df['humidity'] = city_humidity_list\n",
    "random_city_df['cloudiness'] = city_cloudiness_list\n",
    "random_city_df['windspeed'] = city_windspeed_list"
   ]
  },
  {
   "cell_type": "markdown",
   "metadata": {},
   "source": [
    "<h1>Print Charts</h1>"
   ]
  },
  {
   "cell_type": "code",
   "execution_count": 7,
   "metadata": {},
   "outputs": [
    {
     "data": {
      "image/png": "[encoded data removed]",
      "text/plain": [
       "<matplotlib.figure.Figure at 0x2267262a908>"
      ]
     },
     "metadata": {},
     "output_type": "display_data"
    }
   ],
   "source": [
    "# This section prints a scatter plot of latitude by temperature\n",
    "\n",
    "plt.clf()\n",
    "\n",
    "# Create bubble plots\n",
    "plt.scatter(random_city_df['lat'], random_city_df['temp'], marker=\"o\", facecolors='gold', edgecolors=\"black\", alpha=1)\n",
    "\n",
    "# Create a title, x label, and y label\n",
    "plt.title(\"City Latitude by Temperature (F\\N{DEGREE SIGN})\", fontsize=20, fontweight=\"bold\")\n",
    "plt.xlabel(\"Latitude\", fontsize=14)\n",
    "plt.ylabel(\"Temperature (F\\N{DEGREE SIGN})\", fontsize=14)\n",
    "\n",
    "#plt.colorbar()\n",
    "\n",
    "# Set size of x and y tick labels\n",
    "plt.tick_params(labelsize=12)\n",
    "\n",
    "# Set x and y limits\n",
    "plt.xlim(-100,100)\n",
    "plt.ylim(0,130)\n",
    "\n",
    "# Save the figure\n",
    "#plt.savefig(\"LatByTemp.png\")\n",
    "\n",
    "# Display bubble chart\n",
    "plt.show()"
   ]
  },
  {
   "cell_type": "code",
   "execution_count": 8,
   "metadata": {},
   "outputs": [
    {
     "data": {
      "image/png": "[encoded data removed]",
      "text/plain": [
       "<matplotlib.figure.Figure at 0x2267d3d83c8>"
      ]
     },
     "metadata": {},
     "output_type": "display_data"
    }
   ],
   "source": [
    "plt.clf()\n",
    "\n",
    "# Create bubble plots\n",
    "plt.scatter(random_city_df['lat'], random_city_df['humidity'], marker=\"o\", facecolors='gold', edgecolors=\"black\", alpha=1)\n",
    "\n",
    "# Create a title, x label, and y label\n",
    "plt.title(\"City Latitude by Humidity (%)\", fontsize=20, fontweight=\"bold\")\n",
    "plt.xlabel(\"Latitude\", fontsize=14)\n",
    "plt.ylabel(\"Humidity (%)\", fontsize=14)\n",
    "\n",
    "#plt.colorbar()\n",
    "\n",
    "# Set size of x and y tick labels\n",
    "plt.tick_params(labelsize=12)\n",
    "\n",
    "# Set x and y limits\n",
    "plt.xlim(-100,100)\n",
    "plt.ylim(-5,110)\n",
    "\n",
    "# Save the figure\n",
    "#plt.savefig(\"LatByHumidity.png\")\n",
    "\n",
    "# Display bubble chart\n",
    "plt.show()"
   ]
  },
  {
   "cell_type": "code",
   "execution_count": 9,
   "metadata": {},
   "outputs": [
    {
     "data": {
      "image/png": "[encoded data removed]",
      "text/plain": [
       "<matplotlib.figure.Figure at 0x2267d4052b0>"
      ]
     },
     "metadata": {},
     "output_type": "display_data"
    }
   ],
   "source": [
    "plt.clf()\n",
    "\n",
    "# Create bubble plots\n",
    "plt.scatter(random_city_df['lat'], random_city_df['cloudiness'], marker=\"o\", facecolors='gold', edgecolors=\"black\", alpha=1)\n",
    "\n",
    "# Create a title, x label, and y label\n",
    "plt.title(\"City Latitude by Cloudiness (%)\", fontsize=20, fontweight=\"bold\")\n",
    "plt.xlabel(\"Latitude\", fontsize=14)\n",
    "plt.ylabel(\"Cloudiness (%)\", fontsize=14)\n",
    "\n",
    "#plt.colorbar()\n",
    "\n",
    "# Set size of x and y tick labels\n",
    "plt.tick_params(labelsize=12)\n",
    "\n",
    "# Set x and y limits\n",
    "plt.xlim(-100,100)\n",
    "plt.ylim(-5,110)\n",
    "\n",
    "# Save the figure\n",
    "#plt.savefig(\"LatByCloudiness.png\")\n",
    "\n",
    "# Display bubble chart\n",
    "plt.show()"
   ]
  },
  {
   "cell_type": "code",
   "execution_count": 10,
   "metadata": {},
   "outputs": [
    {
     "data": {
      "image/png": "[encoded data removed]",
      "text/plain": [
       "<matplotlib.figure.Figure at 0x2267d425668>"
      ]
     },
     "metadata": {},
     "output_type": "display_data"
    }
   ],
   "source": [
    "plt.clf()\n",
    "\n",
    "# Create bubble plots\n",
    "plt.scatter(random_city_df['lat'], random_city_df['windspeed'], marker=\"o\", facecolors='gold', edgecolors=\"black\", alpha=1)\n",
    "\n",
    "# Create a title, x label, and y label\n",
    "plt.title(\"City Latitude by Wind Speed (mph)\", fontsize=20, fontweight=\"bold\")\n",
    "plt.xlabel(\"Latitude\", fontsize=14)\n",
    "plt.ylabel(\"Cloudiness (%)\", fontsize=14)\n",
    "\n",
    "#plt.colorbar()\n",
    "\n",
    "# Set size of x and y tick labels\n",
    "plt.tick_params(labelsize=12)\n",
    "\n",
    "# Set x and y limits\n",
    "plt.xlim(-100,100)\n",
    "plt.ylim(-5,50)\n",
    "\n",
    "# Save the figure\n",
    "#plt.savefig(\"LatByWindspeed.png\")\n",
    "\n",
    "# Display bubble chart\n",
    "plt.show()"
   ]
  },
  {
   "cell_type": "code",
   "execution_count": null,
   "metadata": {
    "collapsed": true
   },
   "outputs": [],
   "source": []
  }
 ],
 "metadata": {
  "kernelspec": {
   "display_name": "Python 3",
   "language": "python",
   "name": "python3"
  },
  "language_info": {
   "codemirror_mode": {
    "name": "ipython",
    "version": 3
   },
   "file_extension": ".py",
   "mimetype": "text/x-python",
   "name": "python",
   "nbconvert_exporter": "python",
   "pygments_lexer": "ipython3",
   "version": "3.6.3"
  },
  "varInspector": {
   "cols": {
    "lenName": 16,
    "lenType": 16,
    "lenVar": 40
   },
   "kernels_config": {
    "python": {
     "delete_cmd_postfix": "",
     "delete_cmd_prefix": "del ",
     "library": "var_list.py",
     "varRefreshCmd": "print(var_dic_list())"
    },
    "r": {
     "delete_cmd_postfix": ") ",
     "delete_cmd_prefix": "rm(",
     "library": "var_list.r",
     "varRefreshCmd": "cat(var_dic_list()) "
    }
   },
   "types_to_exclude": [
    "module",
    "function",
    "builtin_function_or_method",
    "instance",
    "_Feature"
   ],
   "window_display": false
  }
 },
 "nbformat": 4,
 "nbformat_minor": 2
}
