{
 "cells": [
  {
   "cell_type": "markdown",
   "metadata": {},
   "source": [
    "<b><u>Observations</b></u>\n",
    "<p>1. observation</p>\n",
    "<p>2. observation</p>\n",
    "<p>3. observation</p>"
   ]
  },
  {
   "cell_type": "code",
   "execution_count": 1,
   "metadata": {
    "collapsed": true
   },
   "outputs": [],
   "source": [
    "# Dependencies\n",
    "import random\n",
    "import json\n",
    "import requests\n",
    "from pprint import pprint\n",
    "from config import api_key\n",
    "import pandas as pd\n",
    "import seaborn as sns\n",
    "from citipy import citipy"
   ]
  },
  {
   "cell_type": "markdown",
   "metadata": {},
   "source": [
    "<h1>Generate City List</h1>"
   ]
  },
  {
   "cell_type": "code",
   "execution_count": 23,
   "metadata": {},
   "outputs": [
    {
     "name": "stdout",
     "output_type": "stream",
     "text": [
      "['cape town', 'punta arenas', 'adrar', 'punta arenas', 'rikitea', 'ushuaia', 'balaipungut', 'rikitea', 'cabo san lucas', 'ushuaia']\n",
      "['za', 'cl', 'dz', 'cl', 'pf', 'ar', 'id', 'pf', 'mx', 'ar']\n"
     ]
    }
   ],
   "source": [
    "# Create a list of 500 random latitudes and longitudes\n",
    "# Latitudes range from -90 to +90 and longitutes range from -180 to +180\n",
    "total_cities = 10\n",
    "latitude_list = [random.randint(-9000,9000)/100 for x in range(0, total_cities)]\n",
    "longitude_list = [random.randint(-18000,18000)/100 for x in range(0, total_cities)]\n",
    "\n",
    "# Create a list of cities and their respective country using citipy\n",
    "city_list = [citipy.nearest_city(latitude_list[x], longitude_list[x]).city_name for x in range(0, total_cities)]\n",
    "country_list = [citipy.nearest_city(latitude_list[x], longitude_list[x]).country_code for x in range(0, total_cities)]\n",
    "print(city_list)\n",
    "print(country_list)"
   ]
  },
  {
   "cell_type": "markdown",
   "metadata": {},
   "source": [
    "<h1>Weather API Call</h1>"
   ]
  },
  {
   "cell_type": "code",
   "execution_count": null,
   "metadata": {
    "collapsed": true
   },
   "outputs": [],
   "source": [
    "# Let's get the JSON for 100 posts sequentially.\n",
    "url = \"http://api.openweathermap.org/data/2.5/forecast?id=524901&APPID=\"+api_key"
   ]
  },
  {
   "cell_type": "code",
   "execution_count": null,
   "metadata": {
    "collapsed": true
   },
   "outputs": [],
   "source": [
    "#Weather API call\n",
    "#weather = requests.get(url).json()"
   ]
  },
  {
   "cell_type": "code",
   "execution_count": 5,
   "metadata": {},
   "outputs": [
    {
     "name": "stdout",
     "output_type": "stream",
     "text": [
      "Making request number: 0 for ID: 97\n",
      "Making request number: 1 for ID: 71\n",
      "Making request number: 2 for ID: 83\n",
      "Making request number: 3 for ID: 56\n",
      "Making request number: 4 for ID: 2\n",
      "Making request number: 5 for ID: 53\n",
      "Making request number: 6 for ID: 67\n",
      "Making request number: 7 for ID: 79\n",
      "Making request number: 8 for ID: 35\n",
      "Making request number: 9 for ID: 55\n"
     ]
    }
   ],
   "source": [
    "# Make a request for each of the indices\n",
    "for x in range(total_cities):\n",
    "    print(f\"Making request number: {x}\")\n",
    "\n",
    "    # Get one of the posts\n",
    "    post_response = requests.get(url)\n",
    "\n",
    "    # Save post's JSON\n",
    "    response_json.append(post_response.json())"
   ]
  },
  {
   "cell_type": "code",
   "execution_count": 6,
   "metadata": {},
   "outputs": [
    {
     "name": "stdout",
     "output_type": "stream",
     "text": [
      "We have 10 posts!\n"
     ]
    }
   ],
   "source": [
    "# Now we have 10 post objects, \n",
    "# which we got by making 100 requests to the API.\n",
    "print(f\"We have {len(response_json)} posts!\")"
   ]
  },
  {
   "cell_type": "markdown",
   "metadata": {
    "collapsed": true
   },
   "source": [
    "<h1>Export Results</h1>"
   ]
  },
  {
   "cell_type": "code",
   "execution_count": null,
   "metadata": {
    "collapsed": true
   },
   "outputs": [],
   "source": []
  }
 ],
 "metadata": {
  "kernelspec": {
   "display_name": "Python 3",
   "language": "python",
   "name": "python3"
  },
  "language_info": {
   "codemirror_mode": {
    "name": "ipython",
    "version": 3
   },
   "file_extension": ".py",
   "mimetype": "text/x-python",
   "name": "python",
   "nbconvert_exporter": "python",
   "pygments_lexer": "ipython3",
   "version": "3.6.3"
  },
  "varInspector": {
   "cols": {
    "lenName": 16,
    "lenType": 16,
    "lenVar": 40
   },
   "kernels_config": {
    "python": {
     "delete_cmd_postfix": "",
     "delete_cmd_prefix": "del ",
     "library": "var_list.py",
     "varRefreshCmd": "print(var_dic_list())"
    },
    "r": {
     "delete_cmd_postfix": ") ",
     "delete_cmd_prefix": "rm(",
     "library": "var_list.r",
     "varRefreshCmd": "cat(var_dic_list()) "
    }
   },
   "types_to_exclude": [
    "module",
    "function",
    "builtin_function_or_method",
    "instance",
    "_Feature"
   ],
   "window_display": false
  }
 },
 "nbformat": 4,
 "nbformat_minor": 2
}
