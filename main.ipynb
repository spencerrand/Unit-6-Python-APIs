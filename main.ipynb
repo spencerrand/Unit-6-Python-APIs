{
 "cells": [
  {
   "cell_type": "markdown",
   "metadata": {},
   "source": [
    "<b><u>Observations</b></u>\n",
    "<p>1. observation</p>\n",
    "<p>2. observation</p>\n",
    "<p>3. observation</p>"
   ]
  },
  {
   "cell_type": "code",
   "execution_count": 1,
   "metadata": {
    "collapsed": true
   },
   "outputs": [],
   "source": [
    "# Dependencies\n",
    "import random\n",
    "import json\n",
    "import requests\n",
    "from pprint import pprint\n",
    "from config import api_key\n",
    "import pandas as pd\n",
    "import seaborn as sns\n",
    "from citipy import citipy\n",
    "\n",
    "# Dependencies for downloading and uncompressing list of cities from OpenWeatherMap\n",
    "import urllib.request\n",
    "import gzip"
   ]
  },
  {
   "cell_type": "markdown",
   "metadata": {},
   "source": [
    "<h1>Generate City List</h1>"
   ]
  },
  {
   "cell_type": "code",
   "execution_count": 5,
   "metadata": {},
   "outputs": [],
   "source": [
    "# Create a list of 500 random latitudes and longitudes\n",
    "# Latitudes range from -90 to +90 and longitutes range from -180 to +180\n",
    "#total_cities = 10\n",
    "#latitude_list = [random.randint(-9000,9000)/100 for x in range(0, total_cities)]\n",
    "#longitude_list = [random.randint(-18000,18000)/100 for x in range(0, total_cities)]\n",
    "\n",
    "# Create a list of cities and their respective country using citipy\n",
    "#city_list = [citipy.nearest_city(latitude_list[x], longitude_list[x]).city_name for x in range(0, total_cities)]\n",
    "#country_list = [citipy.nearest_city(latitude_list[x], longitude_list[x]).country_code for x in range(0, total_cities)]\n",
    "#print(city_list)\n",
    "#print(country_list)"
   ]
  },
  {
   "cell_type": "code",
   "execution_count": 3,
   "metadata": {},
   "outputs": [
    {
     "data": {
      "text/html": [
       "<div>\n",
       "<style>\n",
       "    .dataframe thead tr:only-child th {\n",
       "        text-align: right;\n",
       "    }\n",
       "\n",
       "    .dataframe thead th {\n",
       "        text-align: left;\n",
       "    }\n",
       "\n",
       "    .dataframe tbody tr th {\n",
       "        vertical-align: top;\n",
       "    }\n",
       "</style>\n",
       "<table border=\"1\" class=\"dataframe\">\n",
       "  <thead>\n",
       "    <tr style=\"text-align: right;\">\n",
       "      <th></th>\n",
       "      <th>coord</th>\n",
       "      <th>country</th>\n",
       "      <th>id</th>\n",
       "      <th>name</th>\n",
       "    </tr>\n",
       "  </thead>\n",
       "  <tbody>\n",
       "    <tr>\n",
       "      <th>0</th>\n",
       "      <td>{'lon': 34.283333, 'lat': 44.549999}</td>\n",
       "      <td>UA</td>\n",
       "      <td>707860</td>\n",
       "      <td>Hurzuf</td>\n",
       "    </tr>\n",
       "    <tr>\n",
       "      <th>1</th>\n",
       "      <td>{'lon': 37.666668, 'lat': 55.683334}</td>\n",
       "      <td>RU</td>\n",
       "      <td>519188</td>\n",
       "      <td>Novinki</td>\n",
       "    </tr>\n",
       "    <tr>\n",
       "      <th>2</th>\n",
       "      <td>{'lon': 84.633331, 'lat': 28}</td>\n",
       "      <td>NP</td>\n",
       "      <td>1283378</td>\n",
       "      <td>GorkhÄ�</td>\n",
       "    </tr>\n",
       "    <tr>\n",
       "      <th>3</th>\n",
       "      <td>{'lon': 76, 'lat': 29}</td>\n",
       "      <td>IN</td>\n",
       "      <td>1270260</td>\n",
       "      <td>State of HaryÄ�na</td>\n",
       "    </tr>\n",
       "    <tr>\n",
       "      <th>4</th>\n",
       "      <td>{'lon': 33.900002, 'lat': 44.599998}</td>\n",
       "      <td>UA</td>\n",
       "      <td>708546</td>\n",
       "      <td>Holubynka</td>\n",
       "    </tr>\n",
       "  </tbody>\n",
       "</table>\n",
       "</div>"
      ],
      "text/plain": [
       "                                  coord country       id               name\n",
       "0  {'lon': 34.283333, 'lat': 44.549999}      UA   707860             Hurzuf\n",
       "1  {'lon': 37.666668, 'lat': 55.683334}      RU   519188            Novinki\n",
       "2         {'lon': 84.633331, 'lat': 28}      NP  1283378            GorkhÄ�\n",
       "3                {'lon': 76, 'lat': 29}      IN  1270260  State of HaryÄ�na\n",
       "4  {'lon': 33.900002, 'lat': 44.599998}      UA   708546          Holubynka"
      ]
     },
     "execution_count": 3,
     "metadata": {},
     "output_type": "execute_result"
    }
   ],
   "source": [
    "# File names\n",
    "city_index_zip_file = \"city.list.json.gz\"\n",
    "city_index_json_file = 'city.list.json'\n",
    "\n",
    "# Download list of cities and IDs from OpenWeatherMap\n",
    "urllib.request.urlretrieve (\"http://bulk.openweathermap.org/sample/city.list.json.gz\", city_index_zip_file)\n",
    "\n",
    "# Uncompress gzip file to json\n",
    "inF = gzip.open(city_index_zip_file, 'rb')\n",
    "outF = open(city_index_json_file, 'wb')\n",
    "outF.write( inF.read() )\n",
    "inF.close()\n",
    "outF.close()\n",
    "\n",
    "# Read json file into a dataframe\n",
    "city_index_df = pd.read_json(city_index_json_file)\n",
    "\n",
    "city_index_df.head()"
   ]
  },
  {
   "cell_type": "code",
   "execution_count": 115,
   "metadata": {},
   "outputs": [
    {
     "data": {
      "text/html": [
       "<div>\n",
       "<style>\n",
       "    .dataframe thead tr:only-child th {\n",
       "        text-align: right;\n",
       "    }\n",
       "\n",
       "    .dataframe thead th {\n",
       "        text-align: left;\n",
       "    }\n",
       "\n",
       "    .dataframe tbody tr th {\n",
       "        vertical-align: top;\n",
       "    }\n",
       "</style>\n",
       "<table border=\"1\" class=\"dataframe\">\n",
       "  <thead>\n",
       "    <tr style=\"text-align: right;\">\n",
       "      <th></th>\n",
       "      <th>city</th>\n",
       "      <th>country</th>\n",
       "      <th>id</th>\n",
       "      <th>lat</th>\n",
       "      <th>lon</th>\n",
       "    </tr>\n",
       "  </thead>\n",
       "  <tbody>\n",
       "    <tr>\n",
       "      <th>0</th>\n",
       "      <td>Black Hawk County</td>\n",
       "      <td>US</td>\n",
       "      <td>4848699</td>\n",
       "      <td>42.466648</td>\n",
       "      <td>-92.316849</td>\n",
       "    </tr>\n",
       "    <tr>\n",
       "      <th>1</th>\n",
       "      <td>Lepa</td>\n",
       "      <td>PH</td>\n",
       "      <td>1706836</td>\n",
       "      <td>15.882600</td>\n",
       "      <td>120.449303</td>\n",
       "    </tr>\n",
       "    <tr>\n",
       "      <th>2</th>\n",
       "      <td>Highland Park</td>\n",
       "      <td>US</td>\n",
       "      <td>4294771</td>\n",
       "      <td>38.184509</td>\n",
       "      <td>-85.753021</td>\n",
       "    </tr>\n",
       "  </tbody>\n",
       "</table>\n",
       "</div>"
      ],
      "text/plain": [
       "                city country       id        lat         lon\n",
       "0  Black Hawk County      US  4848699  42.466648  -92.316849\n",
       "1               Lepa      PH  1706836  15.882600  120.449303\n",
       "2      Highland Park      US  4294771  38.184509  -85.753021"
      ]
     },
     "execution_count": 115,
     "metadata": {},
     "output_type": "execute_result"
    }
   ],
   "source": [
    "# Pick 500 random cities\n",
    "total_cities = 3\n",
    "city_name_list = []\n",
    "city_id_list = []\n",
    "city_country_list = []\n",
    "city_long_list = []\n",
    "city_lat_list = []\n",
    "\n",
    "for index in range(0, total_cities):\n",
    "    row = random.randint(0, len(city_index_df)-1)\n",
    "    if city_index_df['id'][row] in city_id_list:\n",
    "        print('City is already in list')\n",
    "    else:\n",
    "        city_name_list.append(city_index_df['name'][row])\n",
    "        city_id_list.append(city_index_df['id'][row])\n",
    "        city_country_list.append(city_index_df['country'][row])\n",
    "        city_long_list.append(city_index_df['coord'][row]['lon'])\n",
    "        city_lat_list.append(city_index_df['coord'][row]['lat'])\n",
    "   \n",
    "# Combine all items into a dataframe\n",
    "df = pd.DataFrame({\"city\":city_name_list, 'id':city_id_list, 'country':city_country_list,\n",
    "                   'lon':city_long_list, 'lat':city_lat_list})\n",
    "df"
   ]
  },
  {
   "cell_type": "code",
   "execution_count": 103,
   "metadata": {},
   "outputs": [
    {
     "ename": "ValueError",
     "evalue": "Unknown format code 'f' for object of type 'str'",
     "output_type": "error",
     "traceback": [
      "\u001b[1;31m---------------------------------------------------------------------------\u001b[0m",
      "\u001b[1;31mValueError\u001b[0m                                Traceback (most recent call last)",
      "\u001b[1;32m~\\Anaconda3\\lib\\site-packages\\IPython\\core\\formatters.py\u001b[0m in \u001b[0;36m__call__\u001b[1;34m(self, obj)\u001b[0m\n\u001b[0;32m    343\u001b[0m             \u001b[0mmethod\u001b[0m \u001b[1;33m=\u001b[0m \u001b[0mget_real_method\u001b[0m\u001b[1;33m(\u001b[0m\u001b[0mobj\u001b[0m\u001b[1;33m,\u001b[0m \u001b[0mself\u001b[0m\u001b[1;33m.\u001b[0m\u001b[0mprint_method\u001b[0m\u001b[1;33m)\u001b[0m\u001b[1;33m\u001b[0m\u001b[0m\n\u001b[0;32m    344\u001b[0m             \u001b[1;32mif\u001b[0m \u001b[0mmethod\u001b[0m \u001b[1;32mis\u001b[0m \u001b[1;32mnot\u001b[0m \u001b[1;32mNone\u001b[0m\u001b[1;33m:\u001b[0m\u001b[1;33m\u001b[0m\u001b[0m\n\u001b[1;32m--> 345\u001b[1;33m                 \u001b[1;32mreturn\u001b[0m \u001b[0mmethod\u001b[0m\u001b[1;33m(\u001b[0m\u001b[1;33m)\u001b[0m\u001b[1;33m\u001b[0m\u001b[0m\n\u001b[0m\u001b[0;32m    346\u001b[0m             \u001b[1;32mreturn\u001b[0m \u001b[1;32mNone\u001b[0m\u001b[1;33m\u001b[0m\u001b[0m\n\u001b[0;32m    347\u001b[0m         \u001b[1;32melse\u001b[0m\u001b[1;33m:\u001b[0m\u001b[1;33m\u001b[0m\u001b[0m\n",
      "\u001b[1;32m~\\Anaconda3\\lib\\site-packages\\pandas\\io\\formats\\style.py\u001b[0m in \u001b[0;36m_repr_html_\u001b[1;34m(self)\u001b[0m\n\u001b[0;32m    153\u001b[0m     \u001b[1;32mdef\u001b[0m \u001b[0m_repr_html_\u001b[0m\u001b[1;33m(\u001b[0m\u001b[0mself\u001b[0m\u001b[1;33m)\u001b[0m\u001b[1;33m:\u001b[0m\u001b[1;33m\u001b[0m\u001b[0m\n\u001b[0;32m    154\u001b[0m         \u001b[1;34m\"\"\"Hooks into Jupyter notebook rich display system.\"\"\"\u001b[0m\u001b[1;33m\u001b[0m\u001b[0m\n\u001b[1;32m--> 155\u001b[1;33m         \u001b[1;32mreturn\u001b[0m \u001b[0mself\u001b[0m\u001b[1;33m.\u001b[0m\u001b[0mrender\u001b[0m\u001b[1;33m(\u001b[0m\u001b[1;33m)\u001b[0m\u001b[1;33m\u001b[0m\u001b[0m\n\u001b[0m\u001b[0;32m    156\u001b[0m \u001b[1;33m\u001b[0m\u001b[0m\n\u001b[0;32m    157\u001b[0m     @Appender(_shared_docs['to_excel'] % dict(\n",
      "\u001b[1;32m~\\Anaconda3\\lib\\site-packages\\pandas\\io\\formats\\style.py\u001b[0m in \u001b[0;36mrender\u001b[1;34m(self, **kwargs)\u001b[0m\n\u001b[0;32m    434\u001b[0m         \u001b[0mself\u001b[0m\u001b[1;33m.\u001b[0m\u001b[0m_compute\u001b[0m\u001b[1;33m(\u001b[0m\u001b[1;33m)\u001b[0m\u001b[1;33m\u001b[0m\u001b[0m\n\u001b[0;32m    435\u001b[0m         \u001b[1;31m# TODO: namespace all the pandas keys\u001b[0m\u001b[1;33m\u001b[0m\u001b[1;33m\u001b[0m\u001b[0m\n\u001b[1;32m--> 436\u001b[1;33m         \u001b[0md\u001b[0m \u001b[1;33m=\u001b[0m \u001b[0mself\u001b[0m\u001b[1;33m.\u001b[0m\u001b[0m_translate\u001b[0m\u001b[1;33m(\u001b[0m\u001b[1;33m)\u001b[0m\u001b[1;33m\u001b[0m\u001b[0m\n\u001b[0m\u001b[0;32m    437\u001b[0m         \u001b[1;31m# filter out empty styles, every cell will have a class\u001b[0m\u001b[1;33m\u001b[0m\u001b[1;33m\u001b[0m\u001b[0m\n\u001b[0;32m    438\u001b[0m         \u001b[1;31m# but the list of props may just be [['', '']].\u001b[0m\u001b[1;33m\u001b[0m\u001b[1;33m\u001b[0m\u001b[0m\n",
      "\u001b[1;32m~\\Anaconda3\\lib\\site-packages\\pandas\\io\\formats\\style.py\u001b[0m in \u001b[0;36m_translate\u001b[1;34m(self)\u001b[0m\n\u001b[0;32m    308\u001b[0m                     \u001b[1;34m\"class\"\u001b[0m\u001b[1;33m:\u001b[0m \u001b[1;34m\" \"\u001b[0m\u001b[1;33m.\u001b[0m\u001b[0mjoin\u001b[0m\u001b[1;33m(\u001b[0m\u001b[0mcs\u001b[0m\u001b[1;33m)\u001b[0m\u001b[1;33m,\u001b[0m\u001b[1;33m\u001b[0m\u001b[0m\n\u001b[0;32m    309\u001b[0m                     \u001b[1;34m\"id\"\u001b[0m\u001b[1;33m:\u001b[0m \u001b[1;34m\"_\"\u001b[0m\u001b[1;33m.\u001b[0m\u001b[0mjoin\u001b[0m\u001b[1;33m(\u001b[0m\u001b[0mcs\u001b[0m\u001b[1;33m[\u001b[0m\u001b[1;36m1\u001b[0m\u001b[1;33m:\u001b[0m\u001b[1;33m]\u001b[0m\u001b[1;33m)\u001b[0m\u001b[1;33m,\u001b[0m\u001b[1;33m\u001b[0m\u001b[0m\n\u001b[1;32m--> 310\u001b[1;33m                     \u001b[1;34m\"display_value\"\u001b[0m\u001b[1;33m:\u001b[0m \u001b[0mformatter\u001b[0m\u001b[1;33m(\u001b[0m\u001b[0mvalue\u001b[0m\u001b[1;33m)\u001b[0m\u001b[1;33m\u001b[0m\u001b[0m\n\u001b[0m\u001b[0;32m    311\u001b[0m                 })\n\u001b[0;32m    312\u001b[0m                 \u001b[0mprops\u001b[0m \u001b[1;33m=\u001b[0m \u001b[1;33m[\u001b[0m\u001b[1;33m]\u001b[0m\u001b[1;33m\u001b[0m\u001b[0m\n",
      "\u001b[1;32m~\\Anaconda3\\lib\\site-packages\\pandas\\io\\formats\\style.py\u001b[0m in \u001b[0;36m<lambda>\u001b[1;34m(x)\u001b[0m\n\u001b[0;32m   1179\u001b[0m \u001b[1;32mdef\u001b[0m \u001b[0m_maybe_wrap_formatter\u001b[0m\u001b[1;33m(\u001b[0m\u001b[0mformatter\u001b[0m\u001b[1;33m)\u001b[0m\u001b[1;33m:\u001b[0m\u001b[1;33m\u001b[0m\u001b[0m\n\u001b[0;32m   1180\u001b[0m     \u001b[1;32mif\u001b[0m \u001b[0mis_string_like\u001b[0m\u001b[1;33m(\u001b[0m\u001b[0mformatter\u001b[0m\u001b[1;33m)\u001b[0m\u001b[1;33m:\u001b[0m\u001b[1;33m\u001b[0m\u001b[0m\n\u001b[1;32m-> 1181\u001b[1;33m         \u001b[1;32mreturn\u001b[0m \u001b[1;32mlambda\u001b[0m \u001b[0mx\u001b[0m\u001b[1;33m:\u001b[0m \u001b[0mformatter\u001b[0m\u001b[1;33m.\u001b[0m\u001b[0mformat\u001b[0m\u001b[1;33m(\u001b[0m\u001b[0mx\u001b[0m\u001b[1;33m)\u001b[0m\u001b[1;33m\u001b[0m\u001b[0m\n\u001b[0m\u001b[0;32m   1182\u001b[0m     \u001b[1;32melif\u001b[0m \u001b[0mcallable\u001b[0m\u001b[1;33m(\u001b[0m\u001b[0mformatter\u001b[0m\u001b[1;33m)\u001b[0m\u001b[1;33m:\u001b[0m\u001b[1;33m\u001b[0m\u001b[0m\n\u001b[0;32m   1183\u001b[0m         \u001b[1;32mreturn\u001b[0m \u001b[0mformatter\u001b[0m\u001b[1;33m\u001b[0m\u001b[0m\n",
      "\u001b[1;31mValueError\u001b[0m: Unknown format code 'f' for object of type 'str'"
     ]
    },
    {
     "data": {
      "text/plain": [
       "<pandas.io.formats.style.Styler at 0x17f01106588>"
      ]
     },
     "execution_count": 103,
     "metadata": {},
     "output_type": "execute_result"
    }
   ],
   "source": [
    "# Pick 500 random cities\n",
    "\n",
    "random_city_df = pd.DataFrame(columns=['coord', 'country', 'id', 'name', 'lon', 'lat'])\n",
    "\n",
    "counter = 0\n",
    "total_cities = 5\n",
    "while counter < total_cities:\n",
    "    row = random.randint(0, len(city_index_df))\n",
    "    if any(random_city_df.id == city_index_df['id'][row]):\n",
    "        pass\n",
    "    else:\n",
    "        random_city_df.loc[counter] = city_index_df.iloc[row,:]\n",
    "        random_city_df.lat[counter] = city_index_df['coord'][row]['lat']\n",
    "        random_city_df.lon[counter] = city_index_df['coord'][row]['lon']\n",
    "        counter = counter + 1\n",
    "\n",
    "# Is this needed?\n",
    "random_city_df[\"lat\"] = random_city_df[\"lat\"].map(\"{:.5f}\".format)        \n",
    "random_city_df[\"lon\"] = random_city_df[\"lon\"].map(\"{:.5f}\".format)\n",
    "\n",
    "df = random_city_df.style.format({'lat' : '{:.2f}'})\n",
    "\n",
    "\n",
    "df\n",
    "#random_city_df['temp'] = abs(int(random_city_df.lat))\n",
    "\n",
    "#random_city_df"
   ]
  },
  {
   "cell_type": "markdown",
   "metadata": {},
   "source": [
    "<h1>Weather API Call</h1>"
   ]
  },
  {
   "cell_type": "code",
   "execution_count": null,
   "metadata": {
    "collapsed": true
   },
   "outputs": [],
   "source": [
    "# Let's get the JSON for 100 posts sequentially.\n",
    "url = \"http://api.openweathermap.org/data/2.5/forecast?id=524901&APPID=\"+api_key"
   ]
  },
  {
   "cell_type": "code",
   "execution_count": null,
   "metadata": {},
   "outputs": [],
   "source": [
    "# Make a request for each city\n",
    "for x in range(total_cities):\n",
    "    print(f\"Request {x+1} of {total_cities}: {city_list[x]}\")\n",
    "    print('url')\n",
    "\n",
    "    # Get one of the posts\n",
    "    #post_response = requests.get(url)\n",
    "\n",
    "    # Save post's JSON\n",
    "    #response_json.append(post_response.json())"
   ]
  },
  {
   "cell_type": "markdown",
   "metadata": {},
   "source": [
    "<h1>Print Charts</h1>"
   ]
  },
  {
   "cell_type": "code",
   "execution_count": null,
   "metadata": {},
   "outputs": [],
   "source": [
    "# This section prints a scatter plot of latitude by temperature\n",
    "\n",
    "# Create bubble plots\n",
    "plt.scatter(latitude_list, max_temp, marker=\"o\", facecolors='gold', edgecolors=\"black\", alpha=1)\n",
    "\n",
    "# Create a title, x label, and y label\n",
    "plt.title(\"City Temperature by Temperature (F\\N{DEGREE SIGN})\", fontsize=20, fontweight=\"bold\")\n",
    "plt.xlabel(\"Latitude\", fontsize=14)\n",
    "plt.ylabel(\"Temperature (F\\N{DEGREE SIGN})\", fontsize=14)\n",
    "\n",
    "#plt.colorbar()\n",
    "\n",
    "# Set size of x and y tick labels\n",
    "plt.tick_params(labelsize=12)\n",
    "\n",
    "# Set x and y limits\n",
    "#plt.xlim(0, max(rural_total_rides_by_city.max(), urban_total_rides_by_city.max(), suburban_total_rides_by_city.max())+5)\n",
    "#plt.ylim(15, max(rural_avg_fare_by_city.max(), urban_avg_fare_by_city.max(), suburban_avg_fare_by_city.max())+5)\n",
    "\n",
    "# Display bubble chart\n",
    "plt.show()"
   ]
  },
  {
   "cell_type": "code",
   "execution_count": null,
   "metadata": {
    "collapsed": true
   },
   "outputs": [],
   "source": []
  },
  {
   "cell_type": "markdown",
   "metadata": {
    "collapsed": true
   },
   "source": [
    "<h1>Export Results</h1>"
   ]
  },
  {
   "cell_type": "code",
   "execution_count": null,
   "metadata": {
    "collapsed": true
   },
   "outputs": [],
   "source": []
  }
 ],
 "metadata": {
  "kernelspec": {
   "display_name": "Python 3",
   "language": "python",
   "name": "python3"
  },
  "language_info": {
   "codemirror_mode": {
    "name": "ipython",
    "version": 3
   },
   "file_extension": ".py",
   "mimetype": "text/x-python",
   "name": "python",
   "nbconvert_exporter": "python",
   "pygments_lexer": "ipython3",
   "version": "3.6.3"
  },
  "varInspector": {
   "cols": {
    "lenName": 16,
    "lenType": 16,
    "lenVar": 40
   },
   "kernels_config": {
    "python": {
     "delete_cmd_postfix": "",
     "delete_cmd_prefix": "del ",
     "library": "var_list.py",
     "varRefreshCmd": "print(var_dic_list())"
    },
    "r": {
     "delete_cmd_postfix": ") ",
     "delete_cmd_prefix": "rm(",
     "library": "var_list.r",
     "varRefreshCmd": "cat(var_dic_list()) "
    }
   },
   "types_to_exclude": [
    "module",
    "function",
    "builtin_function_or_method",
    "instance",
    "_Feature"
   ],
   "window_display": false
  }
 },
 "nbformat": 4,
 "nbformat_minor": 2
}
